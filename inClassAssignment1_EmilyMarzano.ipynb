{
  "nbformat": 4,
  "nbformat_minor": 0,
  "metadata": {
    "colab": {
      "name": "inclassassignment1_EmilyMarzano.ipynb",
      "provenance": [],
      "collapsed_sections": []
    },
    "kernelspec": {
      "name": "python3",
      "display_name": "Python 3"
    }
  },
  "cells": [
    {
      "cell_type": "code",
      "metadata": {
        "id": "J0SQPzZI31Ki",
        "colab_type": "code",
        "colab": {}
      },
      "source": [
        "import nltk\n",
        "from nltk.corpus import wordnet as wn"
      ],
      "execution_count": 0,
      "outputs": []
    },
    {
      "cell_type": "code",
      "metadata": {
        "id": "ekxyG26758NW",
        "colab_type": "code",
        "colab": {
          "base_uri": "https://localhost:8080/",
          "height": 34
        },
        "outputId": "4de5e9cb-78aa-4373-ad6b-d913c64153a5"
      },
      "source": [
        "synonyms = []\n",
        "user = input(\"Choose a word: \")"
      ],
      "execution_count": 27,
      "outputs": [
        {
          "output_type": "stream",
          "text": [
            "Choose a word: boot\n"
          ],
          "name": "stdout"
        }
      ]
    },
    {
      "cell_type": "code",
      "metadata": {
        "id": "SRDX9ylM5-Wk",
        "colab_type": "code",
        "colab": {}
      },
      "source": [
        "for syn in wordnet.synsets(user):\n",
        "\tfor l in syn.lemmas():\n",
        "\t\tsynonyms.append(l.name())"
      ],
      "execution_count": 0,
      "outputs": []
    },
    {
      "cell_type": "code",
      "metadata": {
        "id": "pxPpc5Sx6BZA",
        "colab_type": "code",
        "colab": {
          "base_uri": "https://localhost:8080/",
          "height": 34
        },
        "outputId": "bfe02d7e-7912-4de7-8f8e-aecb3146d977"
      },
      "source": [
        "print(set(synonyms))"
      ],
      "execution_count": 29,
      "outputs": [
        {
          "output_type": "stream",
          "text": [
            "{'iron_heel', 'kicking', 'rush', 'the_boot', 'flush', 'kick', 'bring_up', 'bang', 'reboot', 'charge', 'iron_boot', 'thrill', 'boot'}\n"
          ],
          "name": "stdout"
        }
      ]
    }
  ]
}